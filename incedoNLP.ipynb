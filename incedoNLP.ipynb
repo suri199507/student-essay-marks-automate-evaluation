{
  "nbformat": 4,
  "nbformat_minor": 0,
  "metadata": {
    "colab": {
      "name": "incedoNLP.ipynb",
      "version": "0.3.2",
      "provenance": []
    },
    "kernelspec": {
      "name": "python3",
      "display_name": "Python 3"
    },
    "accelerator": "GPU"
  },
  "cells": [
    {
      "cell_type": "code",
      "metadata": {
        "id": "C7i1fBrp0sHR",
        "colab_type": "code",
        "outputId": "5449d258-68d6-4223-b592-7a527945b1c9",
        "colab": {
          "base_uri": "https://localhost:8080/",
          "height": 319
        }
      },
      "source": [
        "!pip install PyDrive\n",
        "from pydrive.auth import GoogleAuth\n",
        "from pydrive.drive import GoogleDrive\n",
        "from google.colab import auth\n",
        "from oauth2client.client import GoogleCredentials\n",
        "\n",
        " "
      ],
      "execution_count": 1,
      "outputs": [
        {
          "output_type": "stream",
          "text": [
            "Collecting PyDrive\n",
            "\u001b[?25l  Downloading https://files.pythonhosted.org/packages/52/e0/0e64788e5dd58ce2d6934549676243dc69d982f198524be9b99e9c2a4fd5/PyDrive-1.3.1.tar.gz (987kB)\n",
            "\r\u001b[K     |▎                               | 10kB 18.5MB/s eta 0:00:01\r\u001b[K     |▋                               | 20kB 6.4MB/s eta 0:00:01\r\u001b[K     |█                               | 30kB 9.1MB/s eta 0:00:01\r\u001b[K     |█▎                              | 40kB 5.6MB/s eta 0:00:01\r\u001b[K     |█▋                              | 51kB 6.9MB/s eta 0:00:01\r\u001b[K     |██                              | 61kB 8.1MB/s eta 0:00:01\r\u001b[K     |██▎                             | 71kB 9.3MB/s eta 0:00:01\r\u001b[K     |██▋                             | 81kB 10.4MB/s eta 0:00:01\r\u001b[K     |███                             | 92kB 11.5MB/s eta 0:00:01\r\u001b[K     |███▎                            | 102kB 9.0MB/s eta 0:00:01\r\u001b[K     |███▋                            | 112kB 9.0MB/s eta 0:00:01\r\u001b[K     |████                            | 122kB 9.0MB/s eta 0:00:01\r\u001b[K     |████▎                           | 133kB 9.0MB/s eta 0:00:01\r\u001b[K     |████▋                           | 143kB 9.0MB/s eta 0:00:01\r\u001b[K     |█████                           | 153kB 9.0MB/s eta 0:00:01\r\u001b[K     |█████▎                          | 163kB 9.0MB/s eta 0:00:01\r\u001b[K     |█████▋                          | 174kB 9.0MB/s eta 0:00:01\r\u001b[K     |██████                          | 184kB 9.0MB/s eta 0:00:01\r\u001b[K     |██████▎                         | 194kB 9.0MB/s eta 0:00:01\r\u001b[K     |██████▋                         | 204kB 9.0MB/s eta 0:00:01\r\u001b[K     |███████                         | 215kB 9.0MB/s eta 0:00:01\r\u001b[K     |███████▎                        | 225kB 9.0MB/s eta 0:00:01\r\u001b[K     |███████▋                        | 235kB 9.0MB/s eta 0:00:01\r\u001b[K     |████████                        | 245kB 9.0MB/s eta 0:00:01\r\u001b[K     |████████▎                       | 256kB 9.0MB/s eta 0:00:01\r\u001b[K     |████████▋                       | 266kB 9.0MB/s eta 0:00:01\r\u001b[K     |█████████                       | 276kB 9.0MB/s eta 0:00:01\r\u001b[K     |█████████▎                      | 286kB 9.0MB/s eta 0:00:01\r\u001b[K     |█████████▋                      | 296kB 9.0MB/s eta 0:00:01\r\u001b[K     |██████████                      | 307kB 9.0MB/s eta 0:00:01\r\u001b[K     |██████████▎                     | 317kB 9.0MB/s eta 0:00:01\r\u001b[K     |██████████▋                     | 327kB 9.0MB/s eta 0:00:01\r\u001b[K     |███████████                     | 337kB 9.0MB/s eta 0:00:01\r\u001b[K     |███████████▎                    | 348kB 9.0MB/s eta 0:00:01\r\u001b[K     |███████████▋                    | 358kB 9.0MB/s eta 0:00:01\r\u001b[K     |████████████                    | 368kB 9.0MB/s eta 0:00:01\r\u001b[K     |████████████▎                   | 378kB 9.0MB/s eta 0:00:01\r\u001b[K     |████████████▋                   | 389kB 9.0MB/s eta 0:00:01\r\u001b[K     |█████████████                   | 399kB 9.0MB/s eta 0:00:01\r\u001b[K     |█████████████▎                  | 409kB 9.0MB/s eta 0:00:01\r\u001b[K     |█████████████▋                  | 419kB 9.0MB/s eta 0:00:01\r\u001b[K     |██████████████                  | 430kB 9.0MB/s eta 0:00:01\r\u001b[K     |██████████████▎                 | 440kB 9.0MB/s eta 0:00:01\r\u001b[K     |██████████████▋                 | 450kB 9.0MB/s eta 0:00:01\r\u001b[K     |███████████████                 | 460kB 9.0MB/s eta 0:00:01\r\u001b[K     |███████████████▎                | 471kB 9.0MB/s eta 0:00:01\r\u001b[K     |███████████████▋                | 481kB 9.0MB/s eta 0:00:01\r\u001b[K     |████████████████                | 491kB 9.0MB/s eta 0:00:01\r\u001b[K     |████████████████▎               | 501kB 9.0MB/s eta 0:00:01\r\u001b[K     |████████████████▋               | 512kB 9.0MB/s eta 0:00:01\r\u001b[K     |█████████████████               | 522kB 9.0MB/s eta 0:00:01\r\u001b[K     |█████████████████▎              | 532kB 9.0MB/s eta 0:00:01\r\u001b[K     |█████████████████▋              | 542kB 9.0MB/s eta 0:00:01\r\u001b[K     |██████████████████              | 552kB 9.0MB/s eta 0:00:01\r\u001b[K     |██████████████████▎             | 563kB 9.0MB/s eta 0:00:01\r\u001b[K     |██████████████████▋             | 573kB 9.0MB/s eta 0:00:01\r\u001b[K     |███████████████████             | 583kB 9.0MB/s eta 0:00:01\r\u001b[K     |███████████████████▎            | 593kB 9.0MB/s eta 0:00:01\r\u001b[K     |███████████████████▋            | 604kB 9.0MB/s eta 0:00:01\r\u001b[K     |████████████████████            | 614kB 9.0MB/s eta 0:00:01\r\u001b[K     |████████████████████▎           | 624kB 9.0MB/s eta 0:00:01\r\u001b[K     |████████████████████▋           | 634kB 9.0MB/s eta 0:00:01\r\u001b[K     |█████████████████████           | 645kB 9.0MB/s eta 0:00:01\r\u001b[K     |█████████████████████▎          | 655kB 9.0MB/s eta 0:00:01\r\u001b[K     |█████████████████████▋          | 665kB 9.0MB/s eta 0:00:01\r\u001b[K     |██████████████████████          | 675kB 9.0MB/s eta 0:00:01\r\u001b[K     |██████████████████████▎         | 686kB 9.0MB/s eta 0:00:01\r\u001b[K     |██████████████████████▋         | 696kB 9.0MB/s eta 0:00:01\r\u001b[K     |███████████████████████         | 706kB 9.0MB/s eta 0:00:01\r\u001b[K     |███████████████████████▎        | 716kB 9.0MB/s eta 0:00:01\r\u001b[K     |███████████████████████▋        | 727kB 9.0MB/s eta 0:00:01\r\u001b[K     |████████████████████████        | 737kB 9.0MB/s eta 0:00:01\r\u001b[K     |████████████████████████▎       | 747kB 9.0MB/s eta 0:00:01\r\u001b[K     |████████████████████████▋       | 757kB 9.0MB/s eta 0:00:01\r\u001b[K     |████████████████████████▉       | 768kB 9.0MB/s eta 0:00:01\r\u001b[K     |█████████████████████████▏      | 778kB 9.0MB/s eta 0:00:01\r\u001b[K     |█████████████████████████▌      | 788kB 9.0MB/s eta 0:00:01\r\u001b[K     |█████████████████████████▉      | 798kB 9.0MB/s eta 0:00:01\r\u001b[K     |██████████████████████████▏     | 808kB 9.0MB/s eta 0:00:01\r\u001b[K     |██████████████████████████▌     | 819kB 9.0MB/s eta 0:00:01\r\u001b[K     |██████████████████████████▉     | 829kB 9.0MB/s eta 0:00:01\r\u001b[K     |███████████████████████████▏    | 839kB 9.0MB/s eta 0:00:01\r\u001b[K     |███████████████████████████▌    | 849kB 9.0MB/s eta 0:00:01\r\u001b[K     |███████████████████████████▉    | 860kB 9.0MB/s eta 0:00:01\r\u001b[K     |████████████████████████████▏   | 870kB 9.0MB/s eta 0:00:01\r\u001b[K     |████████████████████████████▌   | 880kB 9.0MB/s eta 0:00:01\r\u001b[K     |████████████████████████████▉   | 890kB 9.0MB/s eta 0:00:01\r\u001b[K     |█████████████████████████████▏  | 901kB 9.0MB/s eta 0:00:01\r\u001b[K     |█████████████████████████████▌  | 911kB 9.0MB/s eta 0:00:01\r\u001b[K     |█████████████████████████████▉  | 921kB 9.0MB/s eta 0:00:01\r\u001b[K     |██████████████████████████████▏ | 931kB 9.0MB/s eta 0:00:01\r\u001b[K     |██████████████████████████████▌ | 942kB 9.0MB/s eta 0:00:01\r\u001b[K     |██████████████████████████████▉ | 952kB 9.0MB/s eta 0:00:01\r\u001b[K     |███████████████████████████████▏| 962kB 9.0MB/s eta 0:00:01\r\u001b[K     |███████████████████████████████▌| 972kB 9.0MB/s eta 0:00:01\r\u001b[K     |███████████████████████████████▉| 983kB 9.0MB/s eta 0:00:01\r\u001b[K     |████████████████████████████████| 993kB 9.0MB/s \n",
            "\u001b[?25hRequirement already satisfied: google-api-python-client>=1.2 in /usr/local/lib/python3.6/dist-packages (from PyDrive) (1.6.7)\n",
            "Requirement already satisfied: oauth2client>=4.0.0 in /usr/local/lib/python3.6/dist-packages (from PyDrive) (4.1.3)\n",
            "Requirement already satisfied: PyYAML>=3.0 in /usr/local/lib/python3.6/dist-packages (from PyDrive) (3.13)\n",
            "Requirement already satisfied: six<2dev,>=1.6.1 in /usr/local/lib/python3.6/dist-packages (from google-api-python-client>=1.2->PyDrive) (1.12.0)\n",
            "Requirement already satisfied: httplib2<1dev,>=0.9.2 in /usr/local/lib/python3.6/dist-packages (from google-api-python-client>=1.2->PyDrive) (0.11.3)\n",
            "Requirement already satisfied: uritemplate<4dev,>=3.0.0 in /usr/local/lib/python3.6/dist-packages (from google-api-python-client>=1.2->PyDrive) (3.0.0)\n",
            "Requirement already satisfied: pyasn1>=0.1.7 in /usr/local/lib/python3.6/dist-packages (from oauth2client>=4.0.0->PyDrive) (0.4.5)\n",
            "Requirement already satisfied: rsa>=3.1.4 in /usr/local/lib/python3.6/dist-packages (from oauth2client>=4.0.0->PyDrive) (4.0)\n",
            "Requirement already satisfied: pyasn1-modules>=0.0.5 in /usr/local/lib/python3.6/dist-packages (from oauth2client>=4.0.0->PyDrive) (0.2.5)\n",
            "Building wheels for collected packages: PyDrive\n",
            "  Building wheel for PyDrive (setup.py) ... \u001b[?25l\u001b[?25hdone\n",
            "  Stored in directory: /root/.cache/pip/wheels/fa/d2/9a/d3b6b506c2da98289e5d417215ce34b696db856643bad779f4\n",
            "Successfully built PyDrive\n",
            "Installing collected packages: PyDrive\n",
            "Successfully installed PyDrive-1.3.1\n"
          ],
          "name": "stdout"
        }
      ]
    },
    {
      "cell_type": "code",
      "metadata": {
        "id": "LtU1cptn1GtV",
        "colab_type": "code",
        "colab": {}
      },
      "source": [
        "auth.authenticate_user()\n",
        "gauth = GoogleAuth()\n",
        "gauth.credentials = GoogleCredentials.get_application_default()\n",
        "drive = GoogleDrive(gauth)\n"
      ],
      "execution_count": 0,
      "outputs": []
    },
    {
      "cell_type": "code",
      "metadata": {
        "id": "QuhfDtqg1HcD",
        "colab_type": "code",
        "colab": {}
      },
      "source": [
        "download = drive.CreateFile({'id':'1pfS5p7CEdCPvc8kiQ7njwEJj2vc4c_Xn'})\n",
        "download.GetContentFile('train_dataset.csv')"
      ],
      "execution_count": 0,
      "outputs": []
    },
    {
      "cell_type": "code",
      "metadata": {
        "id": "2Eevx3PZ1gew",
        "colab_type": "code",
        "colab": {}
      },
      "source": [
        "\n",
        "download = drive.CreateFile({'id':'1tpSU2dbKlG6vtRWz-XnLv_ZUMVpMarD_'})\n",
        "download.GetContentFile('test_dataset.csv')"
      ],
      "execution_count": 0,
      "outputs": []
    },
    {
      "cell_type": "code",
      "metadata": {
        "id": "qfWhO6um1txI",
        "colab_type": "code",
        "colab": {}
      },
      "source": [
        "import pandas as pd\n",
        "import numpy as np\n",
        "import matplotlib.pyplot as plt\n",
        "import seaborn as sns\n",
        "import re\n",
        "import warnings\n",
        "warnings.filterwarnings('ignore')\n",
        "%matplotlib inline"
      ],
      "execution_count": 0,
      "outputs": []
    },
    {
      "cell_type": "code",
      "metadata": {
        "id": "wspEHSTY1yEL",
        "colab_type": "code",
        "colab": {}
      },
      "source": [
        "\n",
        "train=pd.read_csv(\"train_dataset.csv\")\n",
        "test=pd.read_csv(\"test_dataset.csv\")"
      ],
      "execution_count": 0,
      "outputs": []
    },
    {
      "cell_type": "code",
      "metadata": {
        "id": "YiBs1MOq13kR",
        "colab_type": "code",
        "outputId": "fc8c3f43-67ad-4213-eb8e-b422ed1ce187",
        "colab": {
          "base_uri": "https://localhost:8080/",
          "height": 195
        }
      },
      "source": [
        "train.head()"
      ],
      "execution_count": 58,
      "outputs": [
        {
          "output_type": "execute_result",
          "data": {
            "text/html": [
              "<div>\n",
              "<style scoped>\n",
              "    .dataframe tbody tr th:only-of-type {\n",
              "        vertical-align: middle;\n",
              "    }\n",
              "\n",
              "    .dataframe tbody tr th {\n",
              "        vertical-align: top;\n",
              "    }\n",
              "\n",
              "    .dataframe thead th {\n",
              "        text-align: right;\n",
              "    }\n",
              "</style>\n",
              "<table border=\"1\" class=\"dataframe\">\n",
              "  <thead>\n",
              "    <tr style=\"text-align: right;\">\n",
              "      <th></th>\n",
              "      <th>ID</th>\n",
              "      <th>Essayset</th>\n",
              "      <th>min_score</th>\n",
              "      <th>max_score</th>\n",
              "      <th>score_1</th>\n",
              "      <th>score_2</th>\n",
              "      <th>score_3</th>\n",
              "      <th>score_4</th>\n",
              "      <th>score_5</th>\n",
              "      <th>clarity</th>\n",
              "      <th>coherent</th>\n",
              "      <th>EssayText</th>\n",
              "    </tr>\n",
              "  </thead>\n",
              "  <tbody>\n",
              "    <tr>\n",
              "      <th>0</th>\n",
              "      <td>1</td>\n",
              "      <td>1.0</td>\n",
              "      <td>0</td>\n",
              "      <td>3</td>\n",
              "      <td>1</td>\n",
              "      <td>1</td>\n",
              "      <td>1.0</td>\n",
              "      <td>1.0</td>\n",
              "      <td>1.0</td>\n",
              "      <td>average</td>\n",
              "      <td>worst</td>\n",
              "      <td>Some additional information that we would need...</td>\n",
              "    </tr>\n",
              "    <tr>\n",
              "      <th>1</th>\n",
              "      <td>2</td>\n",
              "      <td>1.0</td>\n",
              "      <td>0</td>\n",
              "      <td>3</td>\n",
              "      <td>1</td>\n",
              "      <td>1</td>\n",
              "      <td>NaN</td>\n",
              "      <td>1.5</td>\n",
              "      <td>1.0</td>\n",
              "      <td>excellent</td>\n",
              "      <td>worst</td>\n",
              "      <td>After reading the expirement, I realized that ...</td>\n",
              "    </tr>\n",
              "    <tr>\n",
              "      <th>2</th>\n",
              "      <td>3</td>\n",
              "      <td>1.0</td>\n",
              "      <td>0</td>\n",
              "      <td>3</td>\n",
              "      <td>1</td>\n",
              "      <td>1</td>\n",
              "      <td>1.0</td>\n",
              "      <td>1.0</td>\n",
              "      <td>1.5</td>\n",
              "      <td>worst</td>\n",
              "      <td>above_average</td>\n",
              "      <td>What you need is more trials, a control set up...</td>\n",
              "    </tr>\n",
              "    <tr>\n",
              "      <th>3</th>\n",
              "      <td>4</td>\n",
              "      <td>1.0</td>\n",
              "      <td>0</td>\n",
              "      <td>3</td>\n",
              "      <td>0</td>\n",
              "      <td>0</td>\n",
              "      <td>0.0</td>\n",
              "      <td>0.0</td>\n",
              "      <td>1.0</td>\n",
              "      <td>worst</td>\n",
              "      <td>worst</td>\n",
              "      <td>The student should list what rock is better an...</td>\n",
              "    </tr>\n",
              "    <tr>\n",
              "      <th>4</th>\n",
              "      <td>5</td>\n",
              "      <td>1.0</td>\n",
              "      <td>0</td>\n",
              "      <td>3</td>\n",
              "      <td>2</td>\n",
              "      <td>2</td>\n",
              "      <td>2.0</td>\n",
              "      <td>2.5</td>\n",
              "      <td>1.0</td>\n",
              "      <td>above_average</td>\n",
              "      <td>worst</td>\n",
              "      <td>For the students to be able to make a replicat...</td>\n",
              "    </tr>\n",
              "  </tbody>\n",
              "</table>\n",
              "</div>"
            ],
            "text/plain": [
              "   ID  Essayset  min_score  max_score  score_1  score_2  score_3  score_4  \\\n",
              "0   1       1.0          0          3        1        1      1.0      1.0   \n",
              "1   2       1.0          0          3        1        1      NaN      1.5   \n",
              "2   3       1.0          0          3        1        1      1.0      1.0   \n",
              "3   4       1.0          0          3        0        0      0.0      0.0   \n",
              "4   5       1.0          0          3        2        2      2.0      2.5   \n",
              "\n",
              "   score_5        clarity       coherent  \\\n",
              "0      1.0        average          worst   \n",
              "1      1.0      excellent          worst   \n",
              "2      1.5          worst  above_average   \n",
              "3      1.0          worst          worst   \n",
              "4      1.0  above_average          worst   \n",
              "\n",
              "                                           EssayText  \n",
              "0  Some additional information that we would need...  \n",
              "1  After reading the expirement, I realized that ...  \n",
              "2  What you need is more trials, a control set up...  \n",
              "3  The student should list what rock is better an...  \n",
              "4  For the students to be able to make a replicat...  "
            ]
          },
          "metadata": {
            "tags": []
          },
          "execution_count": 58
        }
      ]
    },
    {
      "cell_type": "code",
      "metadata": {
        "id": "eRdgDfUVHvYN",
        "colab_type": "code",
        "outputId": "10645101-d8b6-4d6e-c24e-9c859cb4a2ef",
        "colab": {
          "base_uri": "https://localhost:8080/",
          "height": 67
        }
      },
      "source": [
        "import nltk\n",
        "nltk.download('stopwords')"
      ],
      "execution_count": 60,
      "outputs": [
        {
          "output_type": "stream",
          "text": [
            "[nltk_data] Downloading package stopwords to /root/nltk_data...\n",
            "[nltk_data]   Package stopwords is already up-to-date!\n"
          ],
          "name": "stdout"
        },
        {
          "output_type": "execute_result",
          "data": {
            "text/plain": [
              "True"
            ]
          },
          "metadata": {
            "tags": []
          },
          "execution_count": 60
        }
      ]
    },
    {
      "cell_type": "code",
      "metadata": {
        "id": "-iTUOhteHJR6",
        "colab_type": "code",
        "colab": {}
      },
      "source": [
        "from nltk.corpus import stopwords\n",
        "REPLACE_BY_SPACE_RE = re.compile('[/(){}\\[\\]\\|@,;]')\n",
        "BAD_SYMBOLS_RE = re.compile('[^0-9a-z #+_]')\n",
        "STOPWORDS = set(stopwords.words('english'))\n",
        "\n",
        "def clean_text(text):\n",
        "    \"\"\"\n",
        "        text: a string\n",
        "        \n",
        "        return: modified initial string\n",
        "    \"\"\"\n",
        "    text = text.lower() \n",
        "    text = REPLACE_BY_SPACE_RE.sub(' ', text) \n",
        "    text = BAD_SYMBOLS_RE.sub('', text) \n",
        "    text = text.replace('48(DEG)C', '')\n",
        "\n",
        "    text = ' '.join(word for word in text.split() if word not in STOPWORDS) \n",
        "    return text"
      ],
      "execution_count": 0,
      "outputs": []
    },
    {
      "cell_type": "code",
      "metadata": {
        "id": "dY23NYjNHz4Y",
        "colab_type": "code",
        "colab": {}
      },
      "source": [
        "train['EssayText'] = train['EssayText'].apply(clean_text)\n",
        "train['EssayText'] = train['EssayText'].str.replace(' #1-3', '')"
      ],
      "execution_count": 0,
      "outputs": []
    },
    {
      "cell_type": "code",
      "metadata": {
        "id": "rlykYcZfIjSo",
        "colab_type": "code",
        "colab": {}
      },
      "source": [
        "test['EssayText'] = test['EssayText'].apply(clean_text)\n",
        "test['EssayText'] = test['EssayText'].str.replace(' #1-3', '')"
      ],
      "execution_count": 0,
      "outputs": []
    },
    {
      "cell_type": "code",
      "metadata": {
        "id": "XYPqlb9-RBt2",
        "colab_type": "code",
        "outputId": "b3d1c1c3-5166-4200-9d95-7dbea463bcd3",
        "colab": {
          "base_uri": "https://localhost:8080/",
          "height": 352
        }
      },
      "source": [
        "\n",
        "train['clarity'].value_counts().plot.bar()"
      ],
      "execution_count": 64,
      "outputs": [
        {
          "output_type": "execute_result",
          "data": {
            "text/plain": [
              "<matplotlib.axes._subplots.AxesSubplot at 0x7f7aa668ce10>"
            ]
          },
          "metadata": {
            "tags": []
          },
          "execution_count": 64
        },
        {
          "output_type": "display_data",
          "data": {
            "image/png": "[encoded data removed]",
            "text/plain": [
              "<Figure size 432x288 with 1 Axes>"
            ]
          },
          "metadata": {
            "tags": []
          }
        }
      ]
    },
    {
      "cell_type": "code",
      "metadata": {
        "id": "s8kMsbOx15Td",
        "colab_type": "code",
        "outputId": "40442a84-750f-41a0-b4bf-40fb378f53ab",
        "colab": {
          "base_uri": "https://localhost:8080/",
          "height": 352
        }
      },
      "source": [
        "\n",
        "\n",
        "\n",
        "train['coherent'].value_counts().plot.bar()"
      ],
      "execution_count": 65,
      "outputs": [
        {
          "output_type": "execute_result",
          "data": {
            "text/plain": [
              "<matplotlib.axes._subplots.AxesSubplot at 0x7f7a5ca2cb38>"
            ]
          },
          "metadata": {
            "tags": []
          },
          "execution_count": 65
        },
        {
          "output_type": "display_data",
          "data": {
            "image/png": "[encoded data removed]",
            "text/plain": [
              "<Figure size 432x288 with 1 Axes>"
            ]
          },
          "metadata": {
            "tags": []
          }
        }
      ]
    },
    {
      "cell_type": "code",
      "metadata": {
        "id": "4DVYwXFF-fo7",
        "colab_type": "code",
        "colab": {}
      },
      "source": [
        "\n",
        "\n",
        "essayscore=round((train['score_1']+train['score_2']+train['score_3']+train['score_4']+train['score_5'])/5)"
      ],
      "execution_count": 0,
      "outputs": []
    },
    {
      "cell_type": "code",
      "metadata": {
        "id": "sl3Vlh6beWbf",
        "colab_type": "code",
        "colab": {}
      },
      "source": [
        "train['essay_score']=round(essayscore,0)"
      ],
      "execution_count": 0,
      "outputs": []
    },
    {
      "cell_type": "markdown",
      "metadata": {
        "id": "aEVFsXvlLYl0",
        "colab_type": "text"
      },
      "source": [
        ""
      ]
    },
    {
      "cell_type": "code",
      "metadata": {
        "id": "nTqhaEX7LMI7",
        "colab_type": "code",
        "outputId": "4e9dd302-76b4-4740-acd7-34eafccec03a",
        "colab": {
          "base_uri": "https://localhost:8080/",
          "height": 34
        }
      },
      "source": [
        "\n",
        "train['essay_score'].unique()"
      ],
      "execution_count": 68,
      "outputs": [
        {
          "output_type": "execute_result",
          "data": {
            "text/plain": [
              "array([ 1., nan,  0.,  2.,  3.])"
            ]
          },
          "metadata": {
            "tags": []
          },
          "execution_count": 68
        }
      ]
    },
    {
      "cell_type": "code",
      "metadata": {
        "id": "leQx5vY22Zl1",
        "colab_type": "code",
        "colab": {}
      },
      "source": [
        "train_length=train['EssayText'].value_counts()"
      ],
      "execution_count": 0,
      "outputs": []
    },
    {
      "cell_type": "code",
      "metadata": {
        "id": "sX1aQNKxgf8R",
        "colab_type": "code",
        "outputId": "54dfe11f-e9b3-4a6f-e103-1582600286ff",
        "colab": {
          "base_uri": "https://localhost:8080/",
          "height": 323
        }
      },
      "source": [
        "plt.figure(figsize = (12, 5))\n",
        "plt.hist(train_length, bins = 60, alpha = 0.5, color = 'r')\n",
        "plt.show()"
      ],
      "execution_count": 70,
      "outputs": [
        {
          "output_type": "display_data",
          "data": {
            "image/png": "[encoded data removed]",
            "text/plain": [
              "<Figure size 864x360 with 1 Axes>"
            ]
          },
          "metadata": {
            "tags": []
          }
        }
      ]
    },
    {
      "cell_type": "code",
      "metadata": {
        "id": "XwIxraw8gpG9",
        "colab_type": "code",
        "outputId": "7f9bb9bb-6ce0-460b-a1ae-0196a9a834e2",
        "colab": {
          "base_uri": "https://localhost:8080/",
          "height": 118
        }
      },
      "source": [
        "\n",
        "print(\"max length : \", np.max(train_length))\n",
        "print(\"min length : \", np.min(train_length))\n",
        "print(\"mean length : \", np.mean(train_length))\n",
        "print(\"75 % percentile : \", np.percentile(train_length, 75))\n",
        "print(\"85 % percentile : \", np.percentile(train_length, 85))\n",
        "print(\"std length : \", np.std(train_length))"
      ],
      "execution_count": 71,
      "outputs": [
        {
          "output_type": "stream",
          "text": [
            "max length :  8\n",
            "min length :  1\n",
            "mean length :  1.0059021424777195\n",
            "75 % percentile :  1.0\n",
            "85 % percentile :  1.0\n",
            "std length :  0.12132815381625495\n"
          ],
          "name": "stdout"
        }
      ]
    },
    {
      "cell_type": "code",
      "metadata": {
        "id": "wMdE_PQbg437",
        "colab_type": "code",
        "outputId": "556c47b7-fb7d-441d-c529-048222b600aa",
        "colab": {
          "base_uri": "https://localhost:8080/",
          "height": 50
        }
      },
      "source": [
        "print(train.EssayText.isna().sum())\n",
        "print(test.EssayText.isna().sum())"
      ],
      "execution_count": 72,
      "outputs": [
        {
          "output_type": "stream",
          "text": [
            "0\n",
            "0\n"
          ],
          "name": "stdout"
        }
      ]
    },
    {
      "cell_type": "code",
      "metadata": {
        "id": "E_LftGwGhI5p",
        "colab_type": "code",
        "colab": {}
      },
      "source": [
        "mylist=[\"clarity\",\"coherent\"]\n",
        "dummies=pd.get_dummies(train[mylist], prefix=mylist)\n",
        "train.drop(mylist, axis=1, inplace=True)\n",
        "train=pd.concat([train,dummies], axis=1)"
      ],
      "execution_count": 0,
      "outputs": []
    },
    {
      "cell_type": "code",
      "metadata": {
        "id": "yaQNC9KJuAwu",
        "colab_type": "code",
        "colab": {}
      },
      "source": [
        "mylist1=[\"clarity\",\"coherent\"]\n",
        "dummies1=pd.get_dummies(test[mylist1], prefix=mylist1)\n",
        "test.drop(mylist1, axis=1, inplace=True)\n",
        "test=pd.concat([test,dummies1], axis=1)"
      ],
      "execution_count": 0,
      "outputs": []
    },
    {
      "cell_type": "code",
      "metadata": {
        "id": "JaeE9_Pwhph6",
        "colab_type": "code",
        "colab": {}
      },
      "source": [
        "train_df=train.drop(['score_1','score_2','score_3','score_4','score_5'],axis=1)\n",
        "\n"
      ],
      "execution_count": 0,
      "outputs": []
    },
    {
      "cell_type": "code",
      "metadata": {
        "id": "MceHM22Tu5iQ",
        "colab_type": "code",
        "colab": {}
      },
      "source": [
        "train_df=train_df.dropna()"
      ],
      "execution_count": 0,
      "outputs": []
    },
    {
      "cell_type": "code",
      "metadata": {
        "id": "43AyTKLzvSJb",
        "colab_type": "code",
        "colab": {}
      },
      "source": [
        "\n",
        "from keras.utils import to_categorical\n",
        "#y=train_df['essay_score']\n",
        "y=to_categorical(train_df['essay_score'])\n",
        "\n",
        "X=train_df.drop([\"essay_score\",\"ID\"],axis=1)"
      ],
      "execution_count": 0,
      "outputs": []
    },
    {
      "cell_type": "code",
      "metadata": {
        "id": "QdQpLezUkCE4",
        "colab_type": "code",
        "outputId": "c5ad733d-f367-404f-dae5-a3a0bbdf6cbd",
        "colab": {
          "base_uri": "https://localhost:8080/",
          "height": 34
        }
      },
      "source": [
        "X.shape"
      ],
      "execution_count": 78,
      "outputs": [
        {
          "output_type": "execute_result",
          "data": {
            "text/plain": [
              "(16459, 12)"
            ]
          },
          "metadata": {
            "tags": []
          },
          "execution_count": 78
        }
      ]
    },
    {
      "cell_type": "code",
      "metadata": {
        "id": "sZTDBlNTkVRf",
        "colab_type": "code",
        "outputId": "2538ca88-060f-4d57-ad6d-7d7bb5d37bf6",
        "colab": {
          "base_uri": "https://localhost:8080/",
          "height": 101
        }
      },
      "source": [
        "test.columns"
      ],
      "execution_count": 79,
      "outputs": [
        {
          "output_type": "execute_result",
          "data": {
            "text/plain": [
              "Index(['ID', 'Essayset', 'min_score', 'max_score', 'EssayText',\n",
              "       'clarity_above_average', 'clarity_average', 'clarity_excellent',\n",
              "       'clarity_worst', 'coherent_above_average', 'coherent_average',\n",
              "       'coherent_excellent', 'coherent_worst'],\n",
              "      dtype='object')"
            ]
          },
          "metadata": {
            "tags": []
          },
          "execution_count": 79
        }
      ]
    },
    {
      "cell_type": "code",
      "metadata": {
        "id": "uv7I91ApL4Jk",
        "colab_type": "code",
        "colab": {}
      },
      "source": [
        "test_df=test.drop([\"ID\"],axis=1)"
      ],
      "execution_count": 0,
      "outputs": []
    },
    {
      "cell_type": "code",
      "metadata": {
        "id": "OkdVylk1s7WE",
        "colab_type": "code",
        "outputId": "d3aa2561-eeee-4169-d358-f73ee3064abd",
        "colab": {
          "base_uri": "https://localhost:8080/",
          "height": 34
        }
      },
      "source": [
        "test_df.shape"
      ],
      "execution_count": 81,
      "outputs": [
        {
          "output_type": "execute_result",
          "data": {
            "text/plain": [
              "(5224, 12)"
            ]
          },
          "metadata": {
            "tags": []
          },
          "execution_count": 81
        }
      ]
    },
    {
      "cell_type": "code",
      "metadata": {
        "id": "PSuM3gpzp83_",
        "colab_type": "code",
        "colab": {}
      },
      "source": [
        "from sklearn.model_selection import train_test_split\n",
        "X_train,X_test,y_train,y_test=train_test_split(X,y,test_size=0.2,random_state=2018)"
      ],
      "execution_count": 0,
      "outputs": []
    },
    {
      "cell_type": "code",
      "metadata": {
        "id": "BikLZai2Kh9L",
        "colab_type": "code",
        "colab": {}
      },
      "source": [
        "from keras.preprocessing.text import Tokenizer\n",
        "max_features = 10000\n",
        "tokenizer = Tokenizer(num_words=max_features,filters='!\"#$%&()*+,-./:;<=>?@[\\]^_`{|}~', lower=True)\n",
        "tokenizer.fit_on_texts(list(X_train['EssayText']))\n",
        "X_train['EssayText'] = tokenizer.texts_to_sequences(X_train['EssayText'])\n",
        "X_test ['EssayText']= tokenizer.texts_to_sequences(X_test['EssayText'])"
      ],
      "execution_count": 0,
      "outputs": []
    },
    {
      "cell_type": "code",
      "metadata": {
        "id": "_-1C6NDQLx4I",
        "colab_type": "code",
        "colab": {}
      },
      "source": [
        "tokenizer = Tokenizer(num_words=max_features,filters='!\"#$%&()*+,-./:;<=>?@[\\]^_`{|}~', lower=True)\n",
        "tokenizer.fit_on_texts(list(test_df['EssayText']))\n",
        "test_df['EssayText'] = tokenizer.texts_to_sequences(test_df['EssayText'])"
      ],
      "execution_count": 0,
      "outputs": []
    },
    {
      "cell_type": "code",
      "metadata": {
        "id": "hs-fUlAKMYX1",
        "colab_type": "code",
        "outputId": "9d65c01f-0d5a-46fc-b376-bfcd9b5dc325",
        "colab": {
          "base_uri": "https://localhost:8080/",
          "height": 34
        }
      },
      "source": [
        "\n",
        "from keras.preprocessing import sequence\n",
        "max_words = 50\n",
        "X_train['EssayText'] = sequence.pad_sequences(X_train['EssayText'], maxlen=max_words)\n",
        "X_test['EssayText'] = sequence.pad_sequences(X_test['EssayText'], maxlen=max_words)\n",
        "print(X_train.shape,y_test.shape)"
      ],
      "execution_count": 85,
      "outputs": [
        {
          "output_type": "stream",
          "text": [
            "(13167, 12) (3292, 4)\n"
          ],
          "name": "stdout"
        }
      ]
    },
    {
      "cell_type": "code",
      "metadata": {
        "id": "-gwGC100MhyO",
        "colab_type": "code",
        "colab": {}
      },
      "source": [
        "test_df['EssayText'] = sequence.pad_sequences(test_df['EssayText'], maxlen=max_words)"
      ],
      "execution_count": 0,
      "outputs": []
    },
    {
      "cell_type": "code",
      "metadata": {
        "id": "4Cb10DLBnkD4",
        "colab_type": "code",
        "colab": {}
      },
      "source": [
        "\n",
        "max_features = 10000\n",
        "embed_size = 32\n",
        "EMBEDDING_DIM=50"
      ],
      "execution_count": 0,
      "outputs": []
    },
    {
      "cell_type": "code",
      "metadata": {
        "id": "_WL1WJWNoec6",
        "colab_type": "code",
        "colab": {}
      },
      "source": [
        "from keras.models import Sequential\n",
        "from keras.layers import Conv1D,MaxPooling1D,GlobalAveragePooling1D\n",
        "from keras.layers import Dense, Embedding, LSTM, SpatialDropout1D,GRU\n",
        "from sklearn.feature_extraction.text import CountVectorizer\n",
        "from keras.utils.np_utils import to_categorical\n",
        "from keras.callbacks import EarlyStopping\n",
        "from keras.callbacks import Callback"
      ],
      "execution_count": 0,
      "outputs": []
    },
    {
      "cell_type": "code",
      "metadata": {
        "id": "wnthVbGwOmuJ",
        "colab_type": "code",
        "outputId": "37de7c34-b7e4-4703-faa6-7161047d85bb",
        "colab": {
          "base_uri": "https://localhost:8080/",
          "height": 706
        }
      },
      "source": [
        "model = Sequential()\n",
        "model.add(Embedding(max_features, EMBEDDING_DIM, input_length=X_train.shape[1]))\n",
        "model.add(SpatialDropout1D(0.2))\n",
        "model.add(LSTM(250, dropout=0.5, recurrent_dropout=0.5))\n",
        "model.add(Dense(4, activation='softmax'))\n",
        "model.compile(loss='categorical_crossentropy', optimizer='adam', metrics=['accuracy'])\n",
        "\n",
        "epochs = 20\n",
        "batch_size = 120\n",
        "\n",
        "history = model.fit(X_train, y_train, epochs=epochs, batch_size=batch_size,validation_split=0.1,callbacks=[EarlyStopping(monitor='val_loss', patience=3, min_delta=0.0001)])\n"
      ],
      "execution_count": 97,
      "outputs": [
        {
          "output_type": "stream",
          "text": [
            "Train on 11850 samples, validate on 1317 samples\n",
            "Epoch 1/20\n",
            "11850/11850 [==============================] - 5s 390us/step - loss: 1.0826 - acc: 0.4707 - val_loss: 0.8062 - val_acc: 0.6629\n",
            "Epoch 2/20\n",
            "11850/11850 [==============================] - 3s 222us/step - loss: 0.8066 - acc: 0.6408 - val_loss: 0.7723 - val_acc: 0.6446\n",
            "Epoch 3/20\n",
            "11850/11850 [==============================] - 2s 202us/step - loss: 0.7674 - acc: 0.6513 - val_loss: 0.7206 - val_acc: 0.6644\n",
            "Epoch 4/20\n",
            "11850/11850 [==============================] - 2s 202us/step - loss: 0.7452 - acc: 0.6441 - val_loss: 0.7119 - val_acc: 0.6636\n",
            "Epoch 5/20\n",
            "11850/11850 [==============================] - 2s 203us/step - loss: 0.7248 - acc: 0.6508 - val_loss: 0.6872 - val_acc: 0.6477\n",
            "Epoch 6/20\n",
            "11850/11850 [==============================] - 2s 202us/step - loss: 0.7094 - acc: 0.6524 - val_loss: 0.6710 - val_acc: 0.6629\n",
            "Epoch 7/20\n",
            "11850/11850 [==============================] - 2s 201us/step - loss: 0.6996 - acc: 0.6593 - val_loss: 0.6601 - val_acc: 0.6614\n",
            "Epoch 8/20\n",
            "11850/11850 [==============================] - 2s 201us/step - loss: 0.6915 - acc: 0.6590 - val_loss: 0.6509 - val_acc: 0.6720\n",
            "Epoch 9/20\n",
            "11850/11850 [==============================] - 2s 203us/step - loss: 0.6834 - acc: 0.6635 - val_loss: 0.6518 - val_acc: 0.6720\n",
            "Epoch 10/20\n",
            "11850/11850 [==============================] - 2s 201us/step - loss: 0.6726 - acc: 0.6665 - val_loss: 0.6397 - val_acc: 0.6720\n",
            "Epoch 11/20\n",
            "11850/11850 [==============================] - 2s 203us/step - loss: 0.6548 - acc: 0.6724 - val_loss: 0.6344 - val_acc: 0.6598\n",
            "Epoch 12/20\n",
            "11850/11850 [==============================] - 2s 203us/step - loss: 0.6264 - acc: 0.6799 - val_loss: 0.6055 - val_acc: 0.6796\n",
            "Epoch 13/20\n",
            "11850/11850 [==============================] - 2s 202us/step - loss: 0.6046 - acc: 0.6853 - val_loss: 0.6048 - val_acc: 0.6841\n",
            "Epoch 14/20\n",
            "11850/11850 [==============================] - 2s 204us/step - loss: 0.5948 - acc: 0.6861 - val_loss: 0.5860 - val_acc: 0.7046\n",
            "Epoch 15/20\n",
            "11850/11850 [==============================] - 2s 203us/step - loss: 0.5859 - acc: 0.6989 - val_loss: 0.5875 - val_acc: 0.6986\n",
            "Epoch 16/20\n",
            "11850/11850 [==============================] - 2s 202us/step - loss: 0.5822 - acc: 0.6957 - val_loss: 0.5879 - val_acc: 0.6872\n",
            "Epoch 17/20\n",
            "11850/11850 [==============================] - 2s 206us/step - loss: 0.5792 - acc: 0.6955 - val_loss: 0.5830 - val_acc: 0.6872\n",
            "Epoch 18/20\n",
            "11850/11850 [==============================] - 2s 202us/step - loss: 0.5771 - acc: 0.6933 - val_loss: 0.5845 - val_acc: 0.7062\n",
            "Epoch 19/20\n",
            "11850/11850 [==============================] - 2s 203us/step - loss: 0.5693 - acc: 0.7002 - val_loss: 0.5798 - val_acc: 0.7031\n",
            "Epoch 20/20\n",
            "11850/11850 [==============================] - 2s 202us/step - loss: 0.5677 - acc: 0.7039 - val_loss: 0.5828 - val_acc: 0.7001\n"
          ],
          "name": "stdout"
        }
      ]
    },
    {
      "cell_type": "code",
      "metadata": {
        "id": "6xBYIsnCpKSE",
        "colab_type": "code",
        "colab": {
          "base_uri": "https://localhost:8080/",
          "height": 574
        },
        "outputId": "d0cfdcf2-668f-422a-ba5e-641b1fc7decd"
      },
      "source": [
        "import matplotlib.pyplot as plot\n",
        "plot.plot(history.history['acc'])\n",
        "plot.plot(history.history['val_acc'])\n",
        "plot.title('Model accuracy')\n",
        "plot.ylabel('Accuracy')\n",
        "plot.xlabel('Epoch')\n",
        "plot.legend(['Train', 'Test'], loc='upper left')\n",
        "\n",
        "plot.show()\n",
        "\n",
        "plot.plot(history.history['loss'])\n",
        "plot.plot(history.history['val_loss'])\n",
        "plot.title('Model loss')\n",
        "plot.ylabel('Loss')\n",
        "plot.xlabel('Epoch')\n",
        "plot.legend(['Train', 'Test'], loc='upper left')\n",
        "plot.show()"
      ],
      "execution_count": 99,
      "outputs": [
        {
          "output_type": "display_data",
          "data": {
            "image/png": "[encoded data removed]",
            "text/plain": [
              "<Figure size 432x288 with 1 Axes>"
            ]
          },
          "metadata": {
            "tags": []
          }
        },
        {
          "output_type": "display_data",
          "data": {
            "image/png": "[encoded data removed]",
            "text/plain": [
              "<Figure size 432x288 with 1 Axes>"
            ]
          },
          "metadata": {
            "tags": []
          }
        }
      ]
    },
    {
      "cell_type": "code",
      "metadata": {
        "id": "QYBUXU59e37a",
        "colab_type": "code",
        "outputId": "7ce85e1b-9e24-486e-c312-25dd638580f5",
        "colab": {
          "base_uri": "https://localhost:8080/",
          "height": 34
        }
      },
      "source": [
        "scores = model.evaluate(X_test, y_test, verbose=0)\n",
        "print(\"Accuracy: %.2f%%\" % (scores[1]*100))"
      ],
      "execution_count": 98,
      "outputs": [
        {
          "output_type": "stream",
          "text": [
            "Accuracy: 71.14%\n"
          ],
          "name": "stdout"
        }
      ]
    },
    {
      "cell_type": "code",
      "metadata": {
        "id": "kyj9g1LfQIuR",
        "colab_type": "code",
        "colab": {}
      },
      "source": [
        "pred=model.predict(test_df)"
      ],
      "execution_count": 0,
      "outputs": []
    },
    {
      "cell_type": "code",
      "metadata": {
        "id": "1QcfuwRfnRbd",
        "colab_type": "code",
        "outputId": "fc03b2ee-66e1-4d3f-e6a2-40f9037fbf72",
        "colab": {
          "base_uri": "https://localhost:8080/",
          "height": 151
        }
      },
      "source": [
        "pred"
      ],
      "execution_count": 0,
      "outputs": [
        {
          "output_type": "execute_result",
          "data": {
            "text/plain": [
              "array([[5.5188042e-01, 4.4307995e-01, 5.0388970e-03, 7.4491726e-07],\n",
              "       [5.5188042e-01, 4.4307995e-01, 5.0388970e-03, 7.4491726e-07],\n",
              "       [2.5937426e-05, 1.3766013e-02, 5.4927713e-01, 4.3693092e-01],\n",
              "       ...,\n",
              "       [3.7394851e-01, 6.1534750e-01, 1.0703712e-02, 2.8328054e-07],\n",
              "       [3.7394851e-01, 6.1534750e-01, 1.0703712e-02, 2.8328054e-07],\n",
              "       [3.7394851e-01, 6.1534750e-01, 1.0703712e-02, 2.8328054e-07]],\n",
              "      dtype=float32)"
            ]
          },
          "metadata": {
            "tags": []
          },
          "execution_count": 165
        }
      ]
    },
    {
      "cell_type": "code",
      "metadata": {
        "id": "3qUNQ6xmnqXy",
        "colab_type": "code",
        "colab": {}
      },
      "source": [
        "t=np.argmax(pred, axis=1)"
      ],
      "execution_count": 0,
      "outputs": []
    },
    {
      "cell_type": "code",
      "metadata": {
        "id": "WCmcSQj2ChgZ",
        "colab_type": "code",
        "colab": {}
      },
      "source": [
        "maxlen=12"
      ],
      "execution_count": 0,
      "outputs": []
    },
    {
      "cell_type": "code",
      "metadata": {
        "id": "h1jUj1kq66dv",
        "colab_type": "code",
        "colab": {}
      },
      "source": [
        "Submission=pd.DataFrame({\"id\":test[\"ID\"],\"essay_set\":test['Essayset'],\"essay_score\":t})"
      ],
      "execution_count": 0,
      "outputs": []
    },
    {
      "cell_type": "code",
      "metadata": {
        "id": "VXhyFMtz490I",
        "colab_type": "code",
        "colab": {}
      },
      "source": [
        "\n",
        "Submission.to_csv('Lstm.csv', header=True, index=False)\n",
        "\n",
        "\n",
        "from google.colab import files\n",
        "files.download('Lstm.csv') "
      ],
      "execution_count": 0,
      "outputs": []
    },
    {
      "cell_type": "code",
      "metadata": {
        "id": "YjI1asIhsF1x",
        "colab_type": "code",
        "outputId": "ee1e33e6-e739-4945-b119-040ec923909f",
        "colab": {
          "base_uri": "https://localhost:8080/",
          "height": 195
        }
      },
      "source": [
        "Submission.head()"
      ],
      "execution_count": 0,
      "outputs": [
        {
          "output_type": "execute_result",
          "data": {
            "text/html": [
              "<div>\n",
              "<style scoped>\n",
              "    .dataframe tbody tr th:only-of-type {\n",
              "        vertical-align: middle;\n",
              "    }\n",
              "\n",
              "    .dataframe tbody tr th {\n",
              "        vertical-align: top;\n",
              "    }\n",
              "\n",
              "    .dataframe thead th {\n",
              "        text-align: right;\n",
              "    }\n",
              "</style>\n",
              "<table border=\"1\" class=\"dataframe\">\n",
              "  <thead>\n",
              "    <tr style=\"text-align: right;\">\n",
              "      <th></th>\n",
              "      <th>id</th>\n",
              "      <th>essay_set</th>\n",
              "      <th>essay_score</th>\n",
              "    </tr>\n",
              "  </thead>\n",
              "  <tbody>\n",
              "    <tr>\n",
              "      <th>0</th>\n",
              "      <td>1673</td>\n",
              "      <td>1</td>\n",
              "      <td>1</td>\n",
              "    </tr>\n",
              "    <tr>\n",
              "      <th>1</th>\n",
              "      <td>1674</td>\n",
              "      <td>1</td>\n",
              "      <td>1</td>\n",
              "    </tr>\n",
              "    <tr>\n",
              "      <th>2</th>\n",
              "      <td>1675</td>\n",
              "      <td>1</td>\n",
              "      <td>2</td>\n",
              "    </tr>\n",
              "    <tr>\n",
              "      <th>3</th>\n",
              "      <td>1676</td>\n",
              "      <td>1</td>\n",
              "      <td>0</td>\n",
              "    </tr>\n",
              "    <tr>\n",
              "      <th>4</th>\n",
              "      <td>1677</td>\n",
              "      <td>1</td>\n",
              "      <td>0</td>\n",
              "    </tr>\n",
              "  </tbody>\n",
              "</table>\n",
              "</div>"
            ],
            "text/plain": [
              "     id  essay_set  essay_score\n",
              "0  1673          1            1\n",
              "1  1674          1            1\n",
              "2  1675          1            2\n",
              "3  1676          1            0\n",
              "4  1677          1            0"
            ]
          },
          "metadata": {
            "tags": []
          },
          "execution_count": 149
        }
      ]
    },
    {
      "cell_type": "code",
      "metadata": {
        "id": "RwMSIoNEWi7Z",
        "colab_type": "code",
        "colab": {}
      },
      "source": [
        ""
      ],
      "execution_count": 0,
      "outputs": []
    }
  ]
}